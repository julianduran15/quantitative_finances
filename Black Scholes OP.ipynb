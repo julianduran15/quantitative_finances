{
 "cells": [
  {
   "cell_type": "markdown",
   "metadata": {},
   "source": [
    "# Black Scholes Option Pricing"
   ]
  },
  {
   "cell_type": "markdown",
   "metadata": {},
   "source": [
    "#### By: Julián Durán\n",
    "#### LinkedIn: www.linkedin.com/in/juliangodu"
   ]
  },
  {
   "cell_type": "markdown",
   "metadata": {},
   "source": [
    "El modelo Black Scholes, al funcionar como formula cerrada, solo puede valorar opciones  \n",
    " call & put de tipo Europeo (Ejecución únicamente hasta el final del contrato).  \n",
    "  Para utilizar correctamente el modelo de pricing, introduzca el precio Spot y Strike del subyacente,  \n",
    "   la volatilidad realizada, el plazo y la base del contrato, y las tasas libre de riesgo a considerar."
   ]
  },
  {
   "cell_type": "markdown",
   "metadata": {},
   "source": [
    "$$Call_{d_1} = \\frac{Ln(S_0/X) + ((r + \\frac{\\sigma^2}{2})\\cdot \\Delta T)}{\\sigma\\cdot \\sqrt{\\Delta T}}$$\n",
    "$$Call_{d_2} = \\frac{Ln(S_0/X) + ((r - \\frac{\\sigma^2}{2})\\cdot \\Delta T)}{\\sigma\\cdot \\sqrt{\\Delta T}}$$\n",
    "$$Put_{d_1} = -(\\frac{Ln(S_0/X) + ((r + \\frac{\\sigma^2}{2})\\cdot \\Delta T)}{\\sigma\\cdot \\sqrt{\\Delta T}})$$\n",
    "$$Put_{d_2} = -(\\frac{Ln(S_0/X) + ((r - \\frac{\\sigma^2}{2})\\cdot \\Delta T)}{\\sigma\\cdot \\sqrt{\\Delta T}})$$\n",
    "$$N(d_1),\\;N(d_2) \\sim Z(0,1)$$\n",
    "$$Prima_{call} = e^{-r\\cdot \\Delta T} \\cdot \\{ S_0 \\cdot e^{r\\cdot \\Delta T} \\cdot N(d_1) - X\\cdot N(d_2)    \\}  $$\n",
    "$$Prima_{put} = - (e^{-r\\cdot \\Delta T} \\cdot \\{ S_0 \\cdot e^{r\\cdot \\Delta T} \\cdot N(d_1) - X\\cdot N(d_2)    \\})  $$"
   ]
  },
  {
   "cell_type": "code",
   "execution_count": 81,
   "metadata": {},
   "outputs": [],
   "source": [
    "from math import log, exp, sqrt\n",
    "from scipy.stats import norm"
   ]
  },
  {
   "cell_type": "code",
   "execution_count": 82,
   "metadata": {},
   "outputs": [],
   "source": [
    "def blackscholes_pricing(spot, strike, dias, base, volatilidad, rf_base, rf_externa, option):\n",
    "    #Parámetros\n",
    "    ln_rf_base = log((1 + (rf_base/100)))\n",
    "    ln_rf_externa = log((1 + (rf_externa/100)))\n",
    "    r = ln_rf_base - ln_rf_externa\n",
    "    delta_time = dias/base\n",
    "    \n",
    "    #Black Scholes\n",
    "    if option == 'call':\n",
    "        d1 = (log(spot/strike) + ((r + (((volatilidad/100)**2/2)))*delta_time))/((volatilidad/100)*sqrt(delta_time))\n",
    "        d2 = (log(spot/strike) + ((r - (((volatilidad/100)**2/2)))*delta_time))/((volatilidad/100)*sqrt(delta_time))\n",
    "        N_d1 = norm(loc = 0, scale = 1).cdf(d1)\n",
    "        N_d2 = norm(loc = 0, scale = 1).cdf(d2)\n",
    "        option_prime = exp(-ln_rf_base*delta_time) * (spot*exp((r*delta_time))*N_d1 - strike*N_d2)\n",
    "    if option == 'put':\n",
    "        d1 = (log(spot/strike) + ((r + (((volatilidad/100)**2/2)))*delta_time))/((volatilidad/100)*sqrt(delta_time))*-1\n",
    "        d2 = (log(spot/strike) + ((r - (((volatilidad/100)**2/2)))*delta_time))/((volatilidad/100)*sqrt(delta_time))*-1\n",
    "        N_d1 = norm(loc = 0, scale = 1).cdf(d1)\n",
    "        N_d2 = norm(loc = 0, scale = 1).cdf(d2)\n",
    "        option_prime = (exp(-ln_rf_base*delta_time) * (spot*exp((r*delta_time))*N_d1 - strike*N_d2))*-1\n",
    "    print(f'La prima de tu opción europea es: {round(option_prime,4)}')\n",
    "    return(option_prime)"
   ]
  },
  {
   "cell_type": "code",
   "execution_count": 83,
   "metadata": {},
   "outputs": [
    {
     "name": "stdout",
     "output_type": "stream",
     "text": [
      "La prima de tu opción europea es: 35.1017\n"
     ]
    },
    {
     "data": {
      "text/plain": [
       "35.101709499194804"
      ]
     },
     "execution_count": 83,
     "metadata": {},
     "output_type": "execute_result"
    }
   ],
   "source": [
    "blackscholes_pricing(spot = 4000, strike = 4400, dias = 90,\n",
    "                    base = 360, volatilidad = 17, rf_base = 13.25,\n",
    "                    rf_externa = 5, option = 'call')"
   ]
  }
 ],
 "metadata": {
  "kernelspec": {
   "display_name": "Python 3",
   "language": "python",
   "name": "python3"
  },
  "language_info": {
   "codemirror_mode": {
    "name": "ipython",
    "version": 3
   },
   "file_extension": ".py",
   "mimetype": "text/x-python",
   "name": "python",
   "nbconvert_exporter": "python",
   "pygments_lexer": "ipython3",
   "version": "3.11.6"
  }
 },
 "nbformat": 4,
 "nbformat_minor": 2
}
