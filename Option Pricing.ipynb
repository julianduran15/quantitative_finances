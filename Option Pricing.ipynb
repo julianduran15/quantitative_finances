{
 "cells": [
  {
   "cell_type": "markdown",
   "metadata": {},
   "source": [
    "# Option Pricing"
   ]
  },
  {
   "cell_type": "markdown",
   "metadata": {},
   "source": [
    "#### By: Julián Durán\n",
    "#### LinkedIn: www.linkedin.com/in/juliangodu"
   ]
  },
  {
   "cell_type": "markdown",
   "metadata": {},
   "source": [
    "## Montecarlo Simulation"
   ]
  },
  {
   "cell_type": "markdown",
   "metadata": {},
   "source": [
    "La simulación de Montecarlo, en este caso, se usa para valorar opciones call & put  \n",
    "de tipo Europeo (Ejecución únicamente hasta el final del contrato). Para utilizar correctamente  \n",
    "el modelo de pricing, introduzca el precio Spot y Strike del subyacente, el interés, la volatilidad realizada,  \n",
    "el plazo y la base del contrato, y el numero de sendas a considerar."
   ]
  },
  {
   "cell_type": "code",
   "execution_count": 3,
   "metadata": {},
   "outputs": [],
   "source": [
    "from math import log, exp, sqrt\n",
    "import numpy as np\n",
    "from numpy import mean\n",
    "from scipy.stats import norm\n",
    "np.set_printoptions(precision=4, suppress=True)"
   ]
  },
  {
   "cell_type": "code",
   "execution_count": 4,
   "metadata": {},
   "outputs": [],
   "source": [
    "# Datos de ejemplo\n",
    "n_sendas = 1000\n",
    "spot = 4000\n",
    "strike = 4050\n",
    "interes = 5.50\n",
    "volatilidad = 19.00\n",
    "plazo = 120\n",
    "base = 360"
   ]
  },
  {
   "cell_type": "code",
   "execution_count": 5,
   "metadata": {},
   "outputs": [],
   "source": [
    "def montecarlo_option(spot, strike, n_sendas, interes, volatilidad, plazo, base, option):\n",
    "    delta_time = plazo/base\n",
    "    interes = interes/100\n",
    "    volatilidad = volatilidad/100\n",
    "    discount_fact = exp(-interes*delta_time)\n",
    "    sendas_matrix = np.zeros((n_sendas, 3))\n",
    "    sendas_matrix[:,0] = np.arange(1, n_sendas + 1)\n",
    "    for i in range(0, n_sendas):\n",
    "        sendas_matrix[i,1] = spot*exp(((interes-(0.5*(volatilidad**2)))*delta_time)+(volatilidad*sqrt(delta_time)*norm.ppf(np.random.rand())))\n",
    "        if option == 'call':\n",
    "            sendas_matrix[i,2] = max(sendas_matrix[i,1] - strike, 0)\n",
    "        else:\n",
    "            sendas_matrix[i,2] = max(strike - sendas_matrix[i,1], 0)\n",
    "    prima_opcion = mean(sendas_matrix[:,2])*discount_fact\n",
    "    print(f'La prima de tu opcion {option} europea  es: {round(prima_opcion, 4)}')\n",
    "    return(prima_opcion)"
   ]
  },
  {
   "cell_type": "code",
   "execution_count": 6,
   "metadata": {},
   "outputs": [
    {
     "name": "stdout",
     "output_type": "stream",
     "text": [
      "La prima de tu opcion put europea  es: 161.5832\n"
     ]
    },
    {
     "data": {
      "text/plain": [
       "161.58318426930305"
      ]
     },
     "execution_count": 6,
     "metadata": {},
     "output_type": "execute_result"
    }
   ],
   "source": [
    "montecarlo_option(spot, strike, n_sendas, interes, volatilidad, plazo, base, 'put')"
   ]
  },
  {
   "cell_type": "markdown",
   "metadata": {},
   "source": [
    "## Black Scholes "
   ]
  },
  {
   "cell_type": "markdown",
   "metadata": {},
   "source": [
    "El modelo Black Scholes, al funcionar como formula cerrada, solo puede valorar opciones  \n",
    " call & put de tipo Europeo (Ejecución únicamente hasta el final del contrato).  \n",
    "  Para utilizar correctamente el modelo de pricing, introduzca el precio Spot y Strike del subyacente,  \n",
    "   la volatilidad realizada, el plazo y la base del contrato, y las tasas libre de riesgo a considerar."
   ]
  },
  {
   "cell_type": "markdown",
   "metadata": {},
   "source": [
    "$$Call_{d_1} = \\frac{Ln(S_0/X) + ((r + \\frac{\\sigma^2}{2})\\cdot \\Delta T)}{\\sigma\\cdot \\sqrt{\\Delta T}}$$\n",
    "$$Call_{d_2} = \\frac{Ln(S_0/X) + ((r - \\frac{\\sigma^2}{2})\\cdot \\Delta T)}{\\sigma\\cdot \\sqrt{\\Delta T}}$$\n",
    "$$Put_{d_1} = -(\\frac{Ln(S_0/X) + ((r + \\frac{\\sigma^2}{2})\\cdot \\Delta T)}{\\sigma\\cdot \\sqrt{\\Delta T}})$$\n",
    "$$Put_{d_2} = -(\\frac{Ln(S_0/X) + ((r - \\frac{\\sigma^2}{2})\\cdot \\Delta T)}{\\sigma\\cdot \\sqrt{\\Delta T}})$$\n",
    "$$N(d_1),\\;N(d_2) \\sim Z(0,1)$$\n",
    "$$Prima_{call} = e^{-r\\cdot \\Delta T} \\cdot \\{ S_0 \\cdot e^{r\\cdot \\Delta T} \\cdot N(d_1) - X\\cdot N(d_2)    \\}  $$\n",
    "$$Prima_{put} = - (e^{-r\\cdot \\Delta T} \\cdot \\{ S_0 \\cdot e^{r\\cdot \\Delta T} \\cdot N(d_1) - X\\cdot N(d_2)    \\})  $$"
   ]
  },
  {
   "cell_type": "code",
   "execution_count": 7,
   "metadata": {},
   "outputs": [],
   "source": [
    "def blackscholes_pricing(spot, strike, dias, base, volatilidad, rf_base, rf_externa, option):\n",
    "    #Parámetros\n",
    "    ln_rf_base = log((1 + (rf_base/100)))\n",
    "    ln_rf_externa = log((1 + (rf_externa/100)))\n",
    "    r = ln_rf_base - ln_rf_externa\n",
    "    delta_time = dias/base\n",
    "    \n",
    "    #Black Scholes\n",
    "    if option == 'call':\n",
    "        d1 = (log(spot/strike) + ((r + (((volatilidad/100)**2/2)))*delta_time))/((volatilidad/100)*sqrt(delta_time))\n",
    "        d2 = (log(spot/strike) + ((r - (((volatilidad/100)**2/2)))*delta_time))/((volatilidad/100)*sqrt(delta_time))\n",
    "        N_d1 = norm(loc = 0, scale = 1).cdf(d1)\n",
    "        N_d2 = norm(loc = 0, scale = 1).cdf(d2)\n",
    "        option_prime = exp(-ln_rf_base*delta_time) * (spot*exp((r*delta_time))*N_d1 - strike*N_d2)\n",
    "    if option == 'put':\n",
    "        d1 = (log(spot/strike) + ((r + (((volatilidad/100)**2/2)))*delta_time))/((volatilidad/100)*sqrt(delta_time))*-1\n",
    "        d2 = (log(spot/strike) + ((r - (((volatilidad/100)**2/2)))*delta_time))/((volatilidad/100)*sqrt(delta_time))*-1\n",
    "        N_d1 = norm(loc = 0, scale = 1).cdf(d1)\n",
    "        N_d2 = norm(loc = 0, scale = 1).cdf(d2)\n",
    "        option_prime = (exp(-ln_rf_base*delta_time) * (spot*exp((r*delta_time))*N_d1 - strike*N_d2))*-1\n",
    "    print(f'La prima de tu opción europea es: {round(option_prime,4)}')\n",
    "    return(option_prime)"
   ]
  },
  {
   "cell_type": "code",
   "execution_count": 8,
   "metadata": {},
   "outputs": [
    {
     "name": "stdout",
     "output_type": "stream",
     "text": [
      "La prima de tu opción europea es: 35.1017\n"
     ]
    },
    {
     "data": {
      "text/plain": [
       "35.101709499194804"
      ]
     },
     "execution_count": 8,
     "metadata": {},
     "output_type": "execute_result"
    }
   ],
   "source": [
    "blackscholes_pricing(spot = 4000, strike = 4400, dias = 90,\n",
    "                    base = 360, volatilidad = 17, rf_base = 13.25,\n",
    "                    rf_externa = 5, option = 'call')"
   ]
  }
 ],
 "metadata": {
  "kernelspec": {
   "display_name": "Python 3",
   "language": "python",
   "name": "python3"
  },
  "language_info": {
   "codemirror_mode": {
    "name": "ipython",
    "version": 3
   },
   "file_extension": ".py",
   "mimetype": "text/x-python",
   "name": "python",
   "nbconvert_exporter": "python",
   "pygments_lexer": "ipython3",
   "version": "3.11.6"
  }
 },
 "nbformat": 4,
 "nbformat_minor": 2
}
