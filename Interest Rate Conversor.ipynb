{
 "cells": [
  {
   "cell_type": "markdown",
   "metadata": {},
   "source": [
    "# Interest Rate Conversor\n",
    "#### By: Julián Durán\n",
    "#### Linkedin: www.linkedin.com/in/juliangodu"
   ]
  },
  {
   "cell_type": "markdown",
   "metadata": {},
   "source": [
    "### Suministra la siguiente información:\n",
    "##### Tasa nominal sin (%). Ex: 4.75  \n",
    "##### Periodicidad base entre: Anual, Semestral, Cuatrimestral, Trimestral, Bimestral, Mensual, Semanal & Diario.  \n",
    "##### Tipo de tasa base entre: Vencido & Anticipado  \n",
    "##### Periodicidad deseada entre: Anual, Semestral, Cuatrimestral, Trimestral, Bimestral, Mensual, Semanal & Diario.  \n",
    "##### Tipo de tasa deseada entre: Vencido & Anticipado  "
   ]
  },
  {
   "cell_type": "code",
   "execution_count": 44,
   "metadata": {},
   "outputs": [],
   "source": [
    "def conversor_tasas():\n",
    "    \n",
    "    #Diccionario de periodos\n",
    "    periodos = {'Mensual':12, 'Anual':1,'Bimestral':6,\n",
    "            'Trimestral':4,'Cuatrimestral':3,'Semestral':2,\n",
    "            'Semanal':52, 'Diario':365}\n",
    "    \n",
    "    #Parámetros\n",
    "    tasa_nominal = float(input(\"Introduce tu tasa en porcentaje: \"))\n",
    "    tasa_nominal = tasa_nominal/100\n",
    "    periodicidad_base = input(\"Introduce la periodicidad base de tu tasa: \")\n",
    "    tipo_base = input(\"Introduce tu tipo de tasa: \")\n",
    "    n_base = periodos[periodicidad_base]\n",
    "    periodicidad_deseada = input(\"Introduce la periodicidad deseada de tu tasa: \")\n",
    "    tipo_deseado = input(\"Introduce tu tipo de tasa deseada: \")\n",
    "    n_deseado = periodos[periodicidad_deseada]\n",
    "    i_periodica = tasa_nominal/n_base\n",
    "    \n",
    "    #Casos\n",
    "    if tipo_base == 'Vencido' and tipo_deseado == 'Vencido':    \n",
    "        #Vencido to Vencido\n",
    "        i_ea_ven = (((1 + i_periodica)**(n_base))-1)\n",
    "        i_periodica_ven = (((1 + i_ea_ven)**(1/n_deseado))-1)\n",
    "        i_nominal = i_periodica_ven * n_deseado\n",
    "        \n",
    "    elif tipo_base == 'Vencido' and tipo_deseado == 'Anticipado':\n",
    "        #Vencido to Anticipado\n",
    "        i_ea_ven = (((1 + i_periodica)**(n_base))-1)\n",
    "        i_periodica_ant = (1-((1+i_ea_ven)**(-(1/n_deseado)))) \n",
    "        i_nominal = i_periodica_ant * n_deseado\n",
    "        \n",
    "    elif tipo_base == 'Anticipado' and tipo_deseado == 'Vencido': \n",
    "        #Anticipado to Vencido\n",
    "        i_ea_ant = (((1 - i_periodica)**(-n_base))-1) \n",
    "        i_periodica_ven = (((1 + i_ea_ant)**(1/n_deseado))-1)\n",
    "        i_nominal = i_periodica_ven * n_deseado\n",
    "        \n",
    "    else:\n",
    "        #Anticipado to Anticipado\n",
    "        i_ea_ant = (((1 - i_periodica)**(-n_base))-1) \n",
    "        i_periodica_ant = (1-((1+i_ea_ant)**(-(1/n_deseado))))   \n",
    "        i_nominal = i_periodica_ant * n_deseado\n",
    "    #Retorno\n",
    "    print(f'Tu tasa deseada es: {round(i_nominal*100,4)}% Nominal Anual', periodicidad_deseada, 'Vencido' )\n",
    "    return(i_nominal)"
   ]
  },
  {
   "cell_type": "code",
   "execution_count": 45,
   "metadata": {},
   "outputs": [
    {
     "name": "stdout",
     "output_type": "stream",
     "text": [
      "Tu tasa deseada es: 4.7519% Nominal Anual Semanal Vencido\n"
     ]
    },
    {
     "data": {
      "text/plain": [
       "0.04751860800927421"
      ]
     },
     "execution_count": 45,
     "metadata": {},
     "output_type": "execute_result"
    }
   ],
   "source": [
    "tasa = conversor_tasas()"
   ]
  }
 ],
 "metadata": {
  "kernelspec": {
   "display_name": "Python 3",
   "language": "python",
   "name": "python3"
  },
  "language_info": {
   "codemirror_mode": {
    "name": "ipython",
    "version": 3
   },
   "file_extension": ".py",
   "mimetype": "text/x-python",
   "name": "python",
   "nbconvert_exporter": "python",
   "pygments_lexer": "ipython3",
   "version": "3.11.6"
  }
 },
 "nbformat": 4,
 "nbformat_minor": 2
}
